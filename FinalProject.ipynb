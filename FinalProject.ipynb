{
 "cells": [
  {
   "cell_type": "markdown",
   "id": "280aeeca",
   "metadata": {},
   "source": [
    "# My Final Project!\n",
    "## By Stephen Howard\n",
    "### I train a model to detect fake news stories based off their title.\n",
    "### Then,  I train a model to detect them based off the body of the article!\n",
    "### I save both of these models out to files so that they can be reloaded without needing to be retrained!\n",
    "\n",
    "### Finally, I set up and API that loads both models and can handle requests for either model. This is done with FastAPI.\n",
    "#### Notes and reflections on the project at the bottom"
   ]
  },
  {
   "cell_type": "code",
   "execution_count": 2,
   "id": "246f7091",
   "metadata": {},
   "outputs": [
    {
     "name": "stderr",
     "output_type": "stream",
     "text": [
      "2022-12-15 10:28:39.062321: I tensorflow/core/platform/cpu_feature_guard.cc:193] This TensorFlow binary is optimized with oneAPI Deep Neural Network Library (oneDNN) to use the following CPU instructions in performance-critical operations:  AVX2 FMA\n",
      "To enable them in other operations, rebuild TensorFlow with the appropriate compiler flags.\n",
      "2022-12-15 10:28:39.257823: E tensorflow/stream_executor/cuda/cuda_blas.cc:2981] Unable to register cuBLAS factory: Attempting to register factory for plugin cuBLAS when one has already been registered\n",
      "2022-12-15 10:28:40.016511: W tensorflow/stream_executor/platform/default/dso_loader.cc:64] Could not load dynamic library 'libnvinfer.so.7'; dlerror: libnvinfer.so.7: cannot open shared object file: No such file or directory\n",
      "2022-12-15 10:28:40.016634: W tensorflow/stream_executor/platform/default/dso_loader.cc:64] Could not load dynamic library 'libnvinfer_plugin.so.7'; dlerror: libnvinfer_plugin.so.7: cannot open shared object file: No such file or directory\n",
      "2022-12-15 10:28:40.016646: W tensorflow/compiler/tf2tensorrt/utils/py_utils.cc:38] TF-TRT Warning: Cannot dlopen some TensorRT libraries. If you would like to use Nvidia GPU with TensorRT, please make sure the missing libraries mentioned above are installed properly.\n"
     ]
    }
   ],
   "source": [
    "import pandas as pd\n",
    "import matplotlib.pyplot as plt\n",
    "import torch\n",
    "from transformers import AutoTokenizer, AutoModelForSequenceClassification\n",
    "from datasets import Dataset, DatasetDict"
   ]
  },
  {
   "cell_type": "markdown",
   "id": "3e6cbf05",
   "metadata": {},
   "source": [
    "## Load and combine the data with pandas\n",
    "#### https://www.kaggle.com/datasets/clmentbisaillon/fake-and-real-news-dataset"
   ]
  },
  {
   "cell_type": "code",
   "execution_count": 3,
   "id": "13d8fe71",
   "metadata": {},
   "outputs": [],
   "source": [
    "fake = pd.read_csv('Fake.csv')\n",
    "fake.drop(['subject', 'date'], axis=1, inplace=True)\n",
    "fake['label'] = 1\n",
    "# fake"
   ]
  },
  {
   "cell_type": "code",
   "execution_count": 4,
   "id": "372e527b",
   "metadata": {},
   "outputs": [
    {
     "name": "stderr",
     "output_type": "stream",
     "text": [
      "/tmp/ipykernel_281394/297312797.py:9: SettingWithCopyWarning: \n",
      "A value is trying to be set on a copy of a slice from a DataFrame\n",
      "\n",
      "See the caveats in the documentation: https://pandas.pydata.org/pandas-docs/stable/user_guide/indexing.html#returning-a-view-versus-a-copy\n",
      "  true['text'][i] = row['text'][spot+3:]\n"
     ]
    }
   ],
   "source": [
    "true = pd.read_csv('True.csv')\n",
    "true.drop(['subject', 'date'], axis=1, inplace=True)\n",
    "true['label'] = 0\n",
    "\n",
    "# Without this, most of the true stories start with \"(Reuters) - \"\n",
    "for i, row in true.iterrows():\n",
    "    if ' - ' in row['text']:\n",
    "        spot = row['text'].find(' - ')\n",
    "        true['text'][i] = row['text'][spot+3:]\n",
    "# true"
   ]
  },
  {
   "cell_type": "code",
   "execution_count": 5,
   "id": "cd4b19da",
   "metadata": {},
   "outputs": [
    {
     "data": {
      "text/html": [
       "<div>\n",
       "<style scoped>\n",
       "    .dataframe tbody tr th:only-of-type {\n",
       "        vertical-align: middle;\n",
       "    }\n",
       "\n",
       "    .dataframe tbody tr th {\n",
       "        vertical-align: top;\n",
       "    }\n",
       "\n",
       "    .dataframe thead th {\n",
       "        text-align: right;\n",
       "    }\n",
       "</style>\n",
       "<table border=\"1\" class=\"dataframe\">\n",
       "  <thead>\n",
       "    <tr style=\"text-align: right;\">\n",
       "      <th></th>\n",
       "      <th>title</th>\n",
       "      <th>text</th>\n",
       "      <th>label</th>\n",
       "    </tr>\n",
       "  </thead>\n",
       "  <tbody>\n",
       "    <tr>\n",
       "      <th>0</th>\n",
       "      <td>Donald Trump Sends Out Embarrassing New Year’...</td>\n",
       "      <td>Donald Trump just couldn t wish all Americans ...</td>\n",
       "      <td>1</td>\n",
       "    </tr>\n",
       "    <tr>\n",
       "      <th>1</th>\n",
       "      <td>Drunk Bragging Trump Staffer Started Russian ...</td>\n",
       "      <td>House Intelligence Committee Chairman Devin Nu...</td>\n",
       "      <td>1</td>\n",
       "    </tr>\n",
       "    <tr>\n",
       "      <th>2</th>\n",
       "      <td>Sheriff David Clarke Becomes An Internet Joke...</td>\n",
       "      <td>On Friday, it was revealed that former Milwauk...</td>\n",
       "      <td>1</td>\n",
       "    </tr>\n",
       "    <tr>\n",
       "      <th>3</th>\n",
       "      <td>Trump Is So Obsessed He Even Has Obama’s Name...</td>\n",
       "      <td>On Christmas day, Donald Trump announced that ...</td>\n",
       "      <td>1</td>\n",
       "    </tr>\n",
       "    <tr>\n",
       "      <th>4</th>\n",
       "      <td>Pope Francis Just Called Out Donald Trump Dur...</td>\n",
       "      <td>Pope Francis used his annual Christmas Day mes...</td>\n",
       "      <td>1</td>\n",
       "    </tr>\n",
       "    <tr>\n",
       "      <th>...</th>\n",
       "      <td>...</td>\n",
       "      <td>...</td>\n",
       "      <td>...</td>\n",
       "    </tr>\n",
       "    <tr>\n",
       "      <th>44893</th>\n",
       "      <td>'Fully committed' NATO backs new U.S. approach...</td>\n",
       "      <td>NATO allies on Tuesday welcomed President Dona...</td>\n",
       "      <td>0</td>\n",
       "    </tr>\n",
       "    <tr>\n",
       "      <th>44894</th>\n",
       "      <td>LexisNexis withdrew two products from Chinese ...</td>\n",
       "      <td>LexisNexis, a provider of legal, regulatory an...</td>\n",
       "      <td>0</td>\n",
       "    </tr>\n",
       "    <tr>\n",
       "      <th>44895</th>\n",
       "      <td>Minsk cultural hub becomes haven from authorities</td>\n",
       "      <td>In the shadow of disused Soviet-era factories ...</td>\n",
       "      <td>0</td>\n",
       "    </tr>\n",
       "    <tr>\n",
       "      <th>44896</th>\n",
       "      <td>Vatican upbeat on possibility of Pope Francis ...</td>\n",
       "      <td>Vatican Secretary of State Cardinal Pietro Par...</td>\n",
       "      <td>0</td>\n",
       "    </tr>\n",
       "    <tr>\n",
       "      <th>44897</th>\n",
       "      <td>Indonesia to buy $1.14 billion worth of Russia...</td>\n",
       "      <td>Indonesia will buy 11 Sukhoi fighter jets wort...</td>\n",
       "      <td>0</td>\n",
       "    </tr>\n",
       "  </tbody>\n",
       "</table>\n",
       "<p>44898 rows × 3 columns</p>\n",
       "</div>"
      ],
      "text/plain": [
       "                                                   title  \\\n",
       "0       Donald Trump Sends Out Embarrassing New Year’...   \n",
       "1       Drunk Bragging Trump Staffer Started Russian ...   \n",
       "2       Sheriff David Clarke Becomes An Internet Joke...   \n",
       "3       Trump Is So Obsessed He Even Has Obama’s Name...   \n",
       "4       Pope Francis Just Called Out Donald Trump Dur...   \n",
       "...                                                  ...   \n",
       "44893  'Fully committed' NATO backs new U.S. approach...   \n",
       "44894  LexisNexis withdrew two products from Chinese ...   \n",
       "44895  Minsk cultural hub becomes haven from authorities   \n",
       "44896  Vatican upbeat on possibility of Pope Francis ...   \n",
       "44897  Indonesia to buy $1.14 billion worth of Russia...   \n",
       "\n",
       "                                                    text  label  \n",
       "0      Donald Trump just couldn t wish all Americans ...      1  \n",
       "1      House Intelligence Committee Chairman Devin Nu...      1  \n",
       "2      On Friday, it was revealed that former Milwauk...      1  \n",
       "3      On Christmas day, Donald Trump announced that ...      1  \n",
       "4      Pope Francis used his annual Christmas Day mes...      1  \n",
       "...                                                  ...    ...  \n",
       "44893  NATO allies on Tuesday welcomed President Dona...      0  \n",
       "44894  LexisNexis, a provider of legal, regulatory an...      0  \n",
       "44895  In the shadow of disused Soviet-era factories ...      0  \n",
       "44896  Vatican Secretary of State Cardinal Pietro Par...      0  \n",
       "44897  Indonesia will buy 11 Sukhoi fighter jets wort...      0  \n",
       "\n",
       "[44898 rows x 3 columns]"
      ]
     },
     "execution_count": 5,
     "metadata": {},
     "output_type": "execute_result"
    }
   ],
   "source": [
    "# combine the fake and true samples and reset the index\n",
    "df = pd.concat([fake, true]).reset_index(drop=True)\n",
    "df"
   ]
  },
  {
   "cell_type": "code",
   "execution_count": 8,
   "id": "680ed180",
   "metadata": {},
   "outputs": [
    {
     "data": {
      "text/html": [
       "<div>\n",
       "<style scoped>\n",
       "    .dataframe tbody tr th:only-of-type {\n",
       "        vertical-align: middle;\n",
       "    }\n",
       "\n",
       "    .dataframe tbody tr th {\n",
       "        vertical-align: top;\n",
       "    }\n",
       "\n",
       "    .dataframe thead th {\n",
       "        text-align: right;\n",
       "    }\n",
       "</style>\n",
       "<table border=\"1\" class=\"dataframe\">\n",
       "  <thead>\n",
       "    <tr style=\"text-align: right;\">\n",
       "      <th></th>\n",
       "      <th>title</th>\n",
       "      <th>text</th>\n",
       "      <th>label</th>\n",
       "    </tr>\n",
       "  </thead>\n",
       "  <tbody>\n",
       "    <tr>\n",
       "      <th>0</th>\n",
       "      <td>donald trump sends out embarrassing new year’...</td>\n",
       "      <td>donald trump just couldn t wish all americans ...</td>\n",
       "      <td>1</td>\n",
       "    </tr>\n",
       "    <tr>\n",
       "      <th>1</th>\n",
       "      <td>drunk bragging trump staffer started russian ...</td>\n",
       "      <td>house intelligence committee chairman devin nu...</td>\n",
       "      <td>1</td>\n",
       "    </tr>\n",
       "    <tr>\n",
       "      <th>2</th>\n",
       "      <td>sheriff david clarke becomes an internet joke...</td>\n",
       "      <td>on friday, it was revealed that former milwauk...</td>\n",
       "      <td>1</td>\n",
       "    </tr>\n",
       "    <tr>\n",
       "      <th>3</th>\n",
       "      <td>trump is so obsessed he even has obama’s name...</td>\n",
       "      <td>on christmas day, donald trump announced that ...</td>\n",
       "      <td>1</td>\n",
       "    </tr>\n",
       "    <tr>\n",
       "      <th>4</th>\n",
       "      <td>pope francis just called out donald trump dur...</td>\n",
       "      <td>pope francis used his annual christmas day mes...</td>\n",
       "      <td>1</td>\n",
       "    </tr>\n",
       "    <tr>\n",
       "      <th>...</th>\n",
       "      <td>...</td>\n",
       "      <td>...</td>\n",
       "      <td>...</td>\n",
       "    </tr>\n",
       "    <tr>\n",
       "      <th>44893</th>\n",
       "      <td>'fully committed' nato backs new u.s. approach...</td>\n",
       "      <td>nato allies on tuesday welcomed president dona...</td>\n",
       "      <td>0</td>\n",
       "    </tr>\n",
       "    <tr>\n",
       "      <th>44894</th>\n",
       "      <td>lexisnexis withdrew two products from chinese ...</td>\n",
       "      <td>lexisnexis, a provider of legal, regulatory an...</td>\n",
       "      <td>0</td>\n",
       "    </tr>\n",
       "    <tr>\n",
       "      <th>44895</th>\n",
       "      <td>minsk cultural hub becomes haven from authorities</td>\n",
       "      <td>in the shadow of disused soviet-era factories ...</td>\n",
       "      <td>0</td>\n",
       "    </tr>\n",
       "    <tr>\n",
       "      <th>44896</th>\n",
       "      <td>vatican upbeat on possibility of pope francis ...</td>\n",
       "      <td>vatican secretary of state cardinal pietro par...</td>\n",
       "      <td>0</td>\n",
       "    </tr>\n",
       "    <tr>\n",
       "      <th>44897</th>\n",
       "      <td>indonesia to buy 1.14 billion worth of russian...</td>\n",
       "      <td>indonesia will buy 11 sukhoi fighter jets wort...</td>\n",
       "      <td>0</td>\n",
       "    </tr>\n",
       "  </tbody>\n",
       "</table>\n",
       "<p>44898 rows × 3 columns</p>\n",
       "</div>"
      ],
      "text/plain": [
       "                                                   title  \\\n",
       "0       donald trump sends out embarrassing new year’...   \n",
       "1       drunk bragging trump staffer started russian ...   \n",
       "2       sheriff david clarke becomes an internet joke...   \n",
       "3       trump is so obsessed he even has obama’s name...   \n",
       "4       pope francis just called out donald trump dur...   \n",
       "...                                                  ...   \n",
       "44893  'fully committed' nato backs new u.s. approach...   \n",
       "44894  lexisnexis withdrew two products from chinese ...   \n",
       "44895  minsk cultural hub becomes haven from authorities   \n",
       "44896  vatican upbeat on possibility of pope francis ...   \n",
       "44897  indonesia to buy 1.14 billion worth of russian...   \n",
       "\n",
       "                                                    text  label  \n",
       "0      donald trump just couldn t wish all americans ...      1  \n",
       "1      house intelligence committee chairman devin nu...      1  \n",
       "2      on friday, it was revealed that former milwauk...      1  \n",
       "3      on christmas day, donald trump announced that ...      1  \n",
       "4      pope francis used his annual christmas day mes...      1  \n",
       "...                                                  ...    ...  \n",
       "44893  nato allies on tuesday welcomed president dona...      0  \n",
       "44894  lexisnexis, a provider of legal, regulatory an...      0  \n",
       "44895  in the shadow of disused soviet-era factories ...      0  \n",
       "44896  vatican secretary of state cardinal pietro par...      0  \n",
       "44897  indonesia will buy 11 sukhoi fighter jets wort...      0  \n",
       "\n",
       "[44898 rows x 3 columns]"
      ]
     },
     "execution_count": 8,
     "metadata": {},
     "output_type": "execute_result"
    }
   ],
   "source": [
    "# CLEAN UP\n",
    "# remove special characters and brackets\n",
    "df['title'] = df['title'].str.replace(r\"[@#$&*\\[\\]]\", \"\", regex=True)  # r\"[^a-zA-Z0-9,.:;!?' ]\", \"\")\n",
    "df['text'] = df['text'].str.replace(r\"[@#$&*\\[\\]]\", \"\", regex=True)\n",
    "\n",
    "# remove the word video from titles\n",
    "df['title'] = df['title'].str.replace(\"video\", \"\", regex=False, case=False)\n",
    "\n",
    "# lowercase everything\n",
    "df['title'] = df['title'].str.lower()\n",
    "df['text'] = df['text'].str.lower()\n",
    "df"
   ]
  },
  {
   "cell_type": "code",
   "execution_count": 9,
   "id": "afa03f6b",
   "metadata": {},
   "outputs": [
    {
     "name": "stdout",
     "output_type": "stream",
     "text": [
      "\n",
      "massive mi voter fraud uncovered? 59% of detroit vote counting machines didn’t work on election day…ballots may have been counted several times…votes were certified anyway\n",
      "\n",
      "rosie o’donnell gets a tongue lashing for her attack on barron trump: “why don’t you worry about your own children, and why they don’t want to be with you” \n",
      "\n",
      "lou dobbs speaks out on trump, china and taiwan \n",
      "\n",
      "tim allen uses “last man standing” episode to mock censorship of speech by snowflake college students…and it’s hilarious! \n",
      "\n",
      "wow! huckabee asks nancy pelosi if she’s “racist” or “just dumb” over dr. ben carson comments\n",
      "\n",
      "what the heck! why was al gore meeting with the trump team today? \n",
      "\n",
      "no recount? hillary won ca county with most illegal aliens by stunning margin…ex-ice agent explains how easy it is for illegals to vote \n",
      "\n",
      "breaking: obama-appointed judge orders vote recount to begin at noon on monday\n",
      "\n",
      "trump tweets criticism of china: reminds the world “america-first” is a policy…not a suggestion\n",
      "\n",
      "chris wallace calls out jill stein: ‘where do you get off saying the american people need a recount?’ \n"
     ]
    }
   ],
   "source": [
    "for i in range(10):\n",
    "    print()\n",
    "    print(df['title'][12216+i])"
   ]
  },
  {
   "cell_type": "code",
   "execution_count": 10,
   "id": "3038c188",
   "metadata": {},
   "outputs": [
    {
     "data": {
      "text/plain": [
       "1    23481\n",
       "0    21417\n",
       "Name: label, dtype: int64"
      ]
     },
     "execution_count": 10,
     "metadata": {},
     "output_type": "execute_result"
    }
   ],
   "source": [
    "df['label'].value_counts()"
   ]
  },
  {
   "cell_type": "markdown",
   "id": "10ce9cee",
   "metadata": {},
   "source": [
    "## Put the data into a huggingface dataset"
   ]
  },
  {
   "cell_type": "code",
   "execution_count": 11,
   "id": "aa9958d8",
   "metadata": {},
   "outputs": [
    {
     "data": {
      "text/plain": [
       "Dataset({\n",
       "    features: ['title', 'text', 'label'],\n",
       "    num_rows: 44898\n",
       "})"
      ]
     },
     "execution_count": 11,
     "metadata": {},
     "output_type": "execute_result"
    }
   ],
   "source": [
    "dataset = Dataset.from_pandas(df)\n",
    "dataset"
   ]
  },
  {
   "cell_type": "code",
   "execution_count": 12,
   "id": "d28d6138",
   "metadata": {},
   "outputs": [],
   "source": [
    "temp1 = dataset.train_test_split(test_size=0.3, seed=7)\n",
    "temp2 = temp1['test'].train_test_split(test_size=0.5, seed=42)\n",
    "# temp2"
   ]
  },
  {
   "cell_type": "code",
   "execution_count": 13,
   "id": "c5154fee",
   "metadata": {},
   "outputs": [
    {
     "data": {
      "text/plain": [
       "DatasetDict({\n",
       "    train: Dataset({\n",
       "        features: ['title', 'text', 'label'],\n",
       "        num_rows: 31428\n",
       "    })\n",
       "    validation: Dataset({\n",
       "        features: ['title', 'text', 'label'],\n",
       "        num_rows: 6735\n",
       "    })\n",
       "    test: Dataset({\n",
       "        features: ['title', 'text', 'label'],\n",
       "        num_rows: 6735\n",
       "    })\n",
       "})"
      ]
     },
     "execution_count": 13,
     "metadata": {},
     "output_type": "execute_result"
    }
   ],
   "source": [
    "news = DatasetDict({\n",
    "    \"train\": temp1['train'], \n",
    "    \"validation\": temp2['train'], \n",
    "    \"test\": temp2['test']\n",
    "})\n",
    "news"
   ]
  },
  {
   "cell_type": "markdown",
   "id": "fd306157",
   "metadata": {},
   "source": [
    "# Prepare the Transformers!!"
   ]
  },
  {
   "cell_type": "code",
   "execution_count": 14,
   "id": "9515e1b8",
   "metadata": {},
   "outputs": [
    {
     "data": {
      "text/plain": [
       "_CudaDeviceProperties(name='NVIDIA TITAN V', major=7, minor=0, total_memory=12066MB, multi_processor_count=80)"
      ]
     },
     "execution_count": 14,
     "metadata": {},
     "output_type": "execute_result"
    }
   ],
   "source": [
    "import os\n",
    "\n",
    "os.environ[\"CUDA_VISIBLE_DEVICES\"] = \"0,1\"\n",
    "torch.cuda.get_device_properties('cuda:0')"
   ]
  },
  {
   "cell_type": "code",
   "execution_count": 15,
   "id": "be8f6ec3",
   "metadata": {},
   "outputs": [
    {
     "name": "stdout",
     "output_type": "stream",
     "text": [
      "Running on GPU\n"
     ]
    }
   ],
   "source": [
    "if torch.cuda.is_available():\n",
    "    print(\"Running on GPU\")\n",
    "    device = torch.device('cuda')\n",
    "else:\n",
    "    print(\"Running on CPU\")\n",
    "    device = torch.device('cpu')"
   ]
  },
  {
   "cell_type": "code",
   "execution_count": 16,
   "id": "e7c7279c",
   "metadata": {},
   "outputs": [
    {
     "name": "stderr",
     "output_type": "stream",
     "text": [
      "Some weights of the model checkpoint at distilbert-base-uncased were not used when initializing DistilBertForSequenceClassification: ['vocab_projector.bias', 'vocab_layer_norm.weight', 'vocab_projector.weight', 'vocab_transform.bias', 'vocab_layer_norm.bias', 'vocab_transform.weight']\n",
      "- This IS expected if you are initializing DistilBertForSequenceClassification from the checkpoint of a model trained on another task or with another architecture (e.g. initializing a BertForSequenceClassification model from a BertForPreTraining model).\n",
      "- This IS NOT expected if you are initializing DistilBertForSequenceClassification from the checkpoint of a model that you expect to be exactly identical (initializing a BertForSequenceClassification model from a BertForSequenceClassification model).\n",
      "Some weights of DistilBertForSequenceClassification were not initialized from the model checkpoint at distilbert-base-uncased and are newly initialized: ['classifier.bias', 'pre_classifier.weight', 'pre_classifier.bias', 'classifier.weight']\n",
      "You should probably TRAIN this model on a down-stream task to be able to use it for predictions and inference.\n"
     ]
    }
   ],
   "source": [
    "id2label = {0: \"REAL\", 1: \"FAKE\"}\n",
    "label2id = {\"REAL\": 0, \"FAKE\": 1}\n",
    "\n",
    "model_ckpt = \"distilbert-base-uncased\"\n",
    "\n",
    "tokenizer = AutoTokenizer.from_pretrained(model_ckpt)\n",
    "model = AutoModelForSequenceClassification.from_pretrained(\n",
    "    model_ckpt, num_labels=2, id2label=id2label, label2id=label2id).to(device)"
   ]
  },
  {
   "cell_type": "markdown",
   "id": "8a45ba88",
   "metadata": {},
   "source": [
    "# Train a model using the titles of the news articles!\n",
    "## Prepare the data!"
   ]
  },
  {
   "cell_type": "code",
   "execution_count": 17,
   "id": "667307f6",
   "metadata": {},
   "outputs": [],
   "source": [
    "def tokenize_title(batch):\n",
    "    return tokenizer(batch[\"title\"], padding=True, truncation=True)"
   ]
  },
  {
   "cell_type": "code",
   "execution_count": 18,
   "id": "dab8a1d1",
   "metadata": {},
   "outputs": [
    {
     "name": "stderr",
     "output_type": "stream",
     "text": [
      "Parameter 'function'=<function tokenize_title at 0x7fba303e0700> of the transform datasets.arrow_dataset.Dataset._map_single couldn't be hashed properly, a random hash was used instead. Make sure your transforms and parameters are serializable with pickle or dill for the dataset fingerprinting and caching to work. If you reuse this transform, the caching mechanism will consider it to be different from the previous calls and recompute everything. This warning is only showed once. Subsequent hashing failures won't be showed.\n"
     ]
    },
    {
     "data": {
      "application/vnd.jupyter.widget-view+json": {
       "model_id": "6bc46ca1cdcd4b91ad5add7950a6fac1",
       "version_major": 2,
       "version_minor": 0
      },
      "text/plain": [
       "  0%|          | 0/1 [00:00<?, ?ba/s]"
      ]
     },
     "metadata": {},
     "output_type": "display_data"
    },
    {
     "data": {
      "application/vnd.jupyter.widget-view+json": {
       "model_id": "11f439f3f3fb49ce9c33c2207acb01ff",
       "version_major": 2,
       "version_minor": 0
      },
      "text/plain": [
       "  0%|          | 0/1 [00:00<?, ?ba/s]"
      ]
     },
     "metadata": {},
     "output_type": "display_data"
    },
    {
     "data": {
      "application/vnd.jupyter.widget-view+json": {
       "model_id": "3fef0cdf610a475eaaa4dee9752e4cfe",
       "version_major": 2,
       "version_minor": 0
      },
      "text/plain": [
       "  0%|          | 0/1 [00:00<?, ?ba/s]"
      ]
     },
     "metadata": {},
     "output_type": "display_data"
    }
   ],
   "source": [
    "news_encoded = news.map(tokenize_title, batched=True, batch_size=None)"
   ]
  },
  {
   "cell_type": "code",
   "execution_count": 19,
   "id": "c30e5002",
   "metadata": {},
   "outputs": [
    {
     "data": {
      "text/plain": [
       "DatasetDict({\n",
       "    train: Dataset({\n",
       "        features: ['attention_mask', 'input_ids', 'label', 'text', 'title'],\n",
       "        num_rows: 31428\n",
       "    })\n",
       "    validation: Dataset({\n",
       "        features: ['attention_mask', 'input_ids', 'label', 'text', 'title'],\n",
       "        num_rows: 6735\n",
       "    })\n",
       "    test: Dataset({\n",
       "        features: ['attention_mask', 'input_ids', 'label', 'text', 'title'],\n",
       "        num_rows: 6735\n",
       "    })\n",
       "})"
      ]
     },
     "execution_count": 19,
     "metadata": {},
     "output_type": "execute_result"
    }
   ],
   "source": [
    "news_encoded"
   ]
  },
  {
   "cell_type": "code",
   "execution_count": 20,
   "id": "8cc90073",
   "metadata": {},
   "outputs": [
    {
     "data": {
      "text/plain": [
       "1    3533\n",
       "0    3202\n",
       "Name: label, dtype: int64"
      ]
     },
     "execution_count": 20,
     "metadata": {},
     "output_type": "execute_result"
    }
   ],
   "source": [
    "pd.DataFrame(news_encoded['validation'])['label'].value_counts()"
   ]
  },
  {
   "cell_type": "markdown",
   "id": "8d62e030",
   "metadata": {},
   "source": [
    "## Start the training!"
   ]
  },
  {
   "cell_type": "code",
   "execution_count": 21,
   "id": "1862230a",
   "metadata": {},
   "outputs": [],
   "source": [
    "from sklearn.metrics import accuracy_score, f1_score\n",
    "\n",
    "def compute_metrics(pred):\n",
    "    labels = pred.label_ids\n",
    "    preds = pred.predictions.argmax(-1)\n",
    "    f1 = f1_score(labels, preds, average=\"weighted\")\n",
    "    acc = accuracy_score(labels, preds)\n",
    "    return {\"accuracy\": acc, \"f1\": f1}"
   ]
  },
  {
   "cell_type": "code",
   "execution_count": 22,
   "id": "f24a92af",
   "metadata": {},
   "outputs": [],
   "source": [
    "from transformers import Trainer, TrainingArguments\n",
    "\n",
    "def train_model(model, data, model_name, epochs):\n",
    "    batch_size = 8\n",
    "    logging_steps = len(data[\"train\"]) // batch_size\n",
    "    training_args = TrainingArguments(output_dir=model_name,\n",
    "                                  num_train_epochs=epochs,\n",
    "                                  learning_rate=2e-5,\n",
    "                                  per_device_train_batch_size=batch_size,\n",
    "                                  per_device_eval_batch_size=batch_size,\n",
    "                                  weight_decay=0.01,\n",
    "                                  evaluation_strategy=\"epoch\",\n",
    "                                  disable_tqdm=False,\n",
    "                                  logging_steps=logging_steps,\n",
    "                                  logging_strategy=\"no\",\n",
    "                                  push_to_hub=False, \n",
    "                                  report_to=\"none\",\n",
    "                                  log_level=\"error\",\n",
    "                                  save_strategy=\"no\"\n",
    "                                 )\n",
    "    \n",
    "    trainer = Trainer(model=model, \n",
    "                  args=training_args, \n",
    "                  compute_metrics=compute_metrics,\n",
    "                  train_dataset=data[\"train\"],\n",
    "                  eval_dataset=data[\"validation\"],\n",
    "                  tokenizer=tokenizer)\n",
    "    \n",
    "    trainer.train();\n",
    "    \n",
    "    return trainer"
   ]
  },
  {
   "cell_type": "code",
   "execution_count": 23,
   "id": "fea23b45",
   "metadata": {},
   "outputs": [
    {
     "name": "stderr",
     "output_type": "stream",
     "text": [
      "/opt/tljh/user/lib/python3.9/site-packages/torch/nn/parallel/_functions.py:68: UserWarning: Was asked to gather along dimension 0, but all input tensors were scalars; will instead unsqueeze and return a vector.\n",
      "  warnings.warn('Was asked to gather along dimension 0, but all '\n"
     ]
    },
    {
     "data": {
      "text/html": [
       "\n",
       "    <div>\n",
       "      \n",
       "      <progress value='3930' max='3930' style='width:300px; height:20px; vertical-align: middle;'></progress>\n",
       "      [3930/3930 07:06, Epoch 2/2]\n",
       "    </div>\n",
       "    <table border=\"1\" class=\"dataframe\">\n",
       "  <thead>\n",
       "    <tr style=\"text-align: left;\">\n",
       "      <th>Epoch</th>\n",
       "      <th>Training Loss</th>\n",
       "      <th>Validation Loss</th>\n",
       "      <th>Accuracy</th>\n",
       "      <th>F1</th>\n",
       "    </tr>\n",
       "  </thead>\n",
       "  <tbody>\n",
       "    <tr>\n",
       "      <td>1</td>\n",
       "      <td>No log</td>\n",
       "      <td>0.057832</td>\n",
       "      <td>0.982480</td>\n",
       "      <td>0.982486</td>\n",
       "    </tr>\n",
       "    <tr>\n",
       "      <td>2</td>\n",
       "      <td>No log</td>\n",
       "      <td>0.061746</td>\n",
       "      <td>0.985746</td>\n",
       "      <td>0.985750</td>\n",
       "    </tr>\n",
       "  </tbody>\n",
       "</table><p>"
      ],
      "text/plain": [
       "<IPython.core.display.HTML object>"
      ]
     },
     "metadata": {},
     "output_type": "display_data"
    },
    {
     "name": "stderr",
     "output_type": "stream",
     "text": [
      "/opt/tljh/user/lib/python3.9/site-packages/torch/nn/parallel/_functions.py:68: UserWarning: Was asked to gather along dimension 0, but all input tensors were scalars; will instead unsqueeze and return a vector.\n",
      "  warnings.warn('Was asked to gather along dimension 0, but all '\n"
     ]
    }
   ],
   "source": [
    "trainer = train_model(model, news_encoded, f\"{model_ckpt}-finetuned-fake-news\", epochs=2)"
   ]
  },
  {
   "cell_type": "code",
   "execution_count": 24,
   "id": "6392cc6d",
   "metadata": {},
   "outputs": [
    {
     "name": "stderr",
     "output_type": "stream",
     "text": [
      "/opt/tljh/user/lib/python3.9/site-packages/torch/nn/parallel/_functions.py:68: UserWarning: Was asked to gather along dimension 0, but all input tensors were scalars; will instead unsqueeze and return a vector.\n",
      "  warnings.warn('Was asked to gather along dimension 0, but all '\n"
     ]
    },
    {
     "data": {
      "text/html": [
       "\n",
       "    <div>\n",
       "      \n",
       "      <progress value='421' max='421' style='width:300px; height:20px; vertical-align: middle;'></progress>\n",
       "      [421/421 00:14]\n",
       "    </div>\n",
       "    "
      ],
      "text/plain": [
       "<IPython.core.display.HTML object>"
      ]
     },
     "metadata": {},
     "output_type": "display_data"
    },
    {
     "data": {
      "text/plain": [
       "{'test_loss': 0.06758199632167816,\n",
       " 'test_accuracy': 0.9860430586488493,\n",
       " 'test_f1': 0.9860439949279862,\n",
       " 'test_runtime': 14.5738,\n",
       " 'test_samples_per_second': 462.131,\n",
       " 'test_steps_per_second': 28.887}"
      ]
     },
     "execution_count": 24,
     "metadata": {},
     "output_type": "execute_result"
    }
   ],
   "source": [
    "preds_output = trainer.predict(news_encoded[\"test\"])\n",
    "preds_output.metrics"
   ]
  },
  {
   "cell_type": "code",
   "execution_count": 25,
   "id": "4fdea8a0",
   "metadata": {},
   "outputs": [],
   "source": [
    "from sklearn.metrics import ConfusionMatrixDisplay, confusion_matrix\n",
    "\n",
    "def plot_confusion_matrix(y_preds, y_true, labels):\n",
    "    cm = confusion_matrix(y_true, y_preds, normalize=\"true\")\n",
    "    fig, ax = plt.subplots(figsize=(len(labels), len(labels)))\n",
    "    disp = ConfusionMatrixDisplay(confusion_matrix=cm, display_labels=labels)\n",
    "    disp.plot(cmap=\"Blues\", values_format=\".2f\", ax=ax, colorbar=False)\n",
    "    plt.title(\"Normalized confusion matrix\")\n",
    "    plt.show()"
   ]
  },
  {
   "cell_type": "code",
   "execution_count": 26,
   "id": "ead6da9e",
   "metadata": {},
   "outputs": [
    {
     "data": {
      "image/png": "[encoded data removed]",
      "text/plain": [
       "<Figure size 200x200 with 1 Axes>"
      ]
     },
     "metadata": {},
     "output_type": "display_data"
    }
   ],
   "source": [
    "import numpy as np\n",
    "\n",
    "y_preds = np.argmax(preds_output.predictions, axis=1)\n",
    "y_valid = np.array(news_encoded[\"test\"][\"label\"])\n",
    "labels = ['Real', 'Fake']\n",
    "\n",
    "plot_confusion_matrix(y_preds, y_valid, labels)"
   ]
  },
  {
   "cell_type": "code",
   "execution_count": 27,
   "id": "6736f236",
   "metadata": {},
   "outputs": [],
   "source": [
    "trainer.save_model(\"models/title_classifier\")"
   ]
  },
  {
   "cell_type": "markdown",
   "id": "384b5707",
   "metadata": {},
   "source": [
    "# Now train a model that uses the body of the article!"
   ]
  },
  {
   "cell_type": "code",
   "execution_count": null,
   "id": "2510b656",
   "metadata": {},
   "outputs": [],
   "source": [
    "model_ckpt = \"distilbert-base-uncased\"\n",
    "\n",
    "tokenizer = AutoTokenizer.from_pretrained(model_ckpt)"
   ]
  },
  {
   "cell_type": "code",
   "execution_count": null,
   "id": "8f0d531f",
   "metadata": {},
   "outputs": [],
   "source": [
    "model = AutoModelForSequenceClassification.from_pretrained(\n",
    "    model_ckpt, num_labels=2, id2label=id2label, label2id=label2id).to(device)"
   ]
  },
  {
   "cell_type": "code",
   "execution_count": 31,
   "id": "a19647b4",
   "metadata": {},
   "outputs": [],
   "source": [
    "def tokenize_text(batch):\n",
    "    return tokenizer(batch[\"text\"], padding=True, truncation=True)"
   ]
  },
  {
   "cell_type": "code",
   "execution_count": 32,
   "id": "140832ad",
   "metadata": {},
   "outputs": [
    {
     "data": {
      "application/vnd.jupyter.widget-view+json": {
       "model_id": "6fbdd48b440e41759440a34619c3db98",
       "version_major": 2,
       "version_minor": 0
      },
      "text/plain": [
       "  0%|          | 0/1 [00:00<?, ?ba/s]"
      ]
     },
     "metadata": {},
     "output_type": "display_data"
    },
    {
     "data": {
      "application/vnd.jupyter.widget-view+json": {
       "model_id": "f260a63ce1bf4df5bd9a1d7b8a0f0a12",
       "version_major": 2,
       "version_minor": 0
      },
      "text/plain": [
       "  0%|          | 0/1 [00:00<?, ?ba/s]"
      ]
     },
     "metadata": {},
     "output_type": "display_data"
    },
    {
     "data": {
      "application/vnd.jupyter.widget-view+json": {
       "model_id": "7a9531852d0c454c9b4044338b1b0115",
       "version_major": 2,
       "version_minor": 0
      },
      "text/plain": [
       "  0%|          | 0/1 [00:00<?, ?ba/s]"
      ]
     },
     "metadata": {},
     "output_type": "display_data"
    }
   ],
   "source": [
    "news_encoded = news.map(tokenize_text, batched=True, batch_size=None)"
   ]
  },
  {
   "cell_type": "markdown",
   "id": "3a9ea1f3",
   "metadata": {},
   "source": [
    "## Train!"
   ]
  },
  {
   "cell_type": "code",
   "execution_count": 33,
   "id": "8a2cc7fd",
   "metadata": {},
   "outputs": [
    {
     "name": "stderr",
     "output_type": "stream",
     "text": [
      "/opt/tljh/user/lib/python3.9/site-packages/torch/nn/parallel/_functions.py:68: UserWarning: Was asked to gather along dimension 0, but all input tensors were scalars; will instead unsqueeze and return a vector.\n",
      "  warnings.warn('Was asked to gather along dimension 0, but all '\n"
     ]
    },
    {
     "data": {
      "text/html": [
       "\n",
       "    <div>\n",
       "      \n",
       "      <progress value='3930' max='3930' style='width:300px; height:20px; vertical-align: middle;'></progress>\n",
       "      [3930/3930 16:36, Epoch 2/2]\n",
       "    </div>\n",
       "    <table border=\"1\" class=\"dataframe\">\n",
       "  <thead>\n",
       "    <tr style=\"text-align: left;\">\n",
       "      <th>Epoch</th>\n",
       "      <th>Training Loss</th>\n",
       "      <th>Validation Loss</th>\n",
       "      <th>Accuracy</th>\n",
       "      <th>F1</th>\n",
       "    </tr>\n",
       "  </thead>\n",
       "  <tbody>\n",
       "    <tr>\n",
       "      <td>1</td>\n",
       "      <td>No log</td>\n",
       "      <td>0.005256</td>\n",
       "      <td>0.998664</td>\n",
       "      <td>0.998664</td>\n",
       "    </tr>\n",
       "    <tr>\n",
       "      <td>2</td>\n",
       "      <td>No log</td>\n",
       "      <td>0.008214</td>\n",
       "      <td>0.998515</td>\n",
       "      <td>0.998515</td>\n",
       "    </tr>\n",
       "  </tbody>\n",
       "</table><p>"
      ],
      "text/plain": [
       "<IPython.core.display.HTML object>"
      ]
     },
     "metadata": {},
     "output_type": "display_data"
    },
    {
     "name": "stderr",
     "output_type": "stream",
     "text": [
      "/opt/tljh/user/lib/python3.9/site-packages/torch/nn/parallel/_functions.py:68: UserWarning: Was asked to gather along dimension 0, but all input tensors were scalars; will instead unsqueeze and return a vector.\n",
      "  warnings.warn('Was asked to gather along dimension 0, but all '\n"
     ]
    }
   ],
   "source": [
    "trainer = train_model(model, news_encoded, f\"{model_ckpt}-finetuned-fake-news\", epochs=2)"
   ]
  },
  {
   "cell_type": "code",
   "execution_count": 34,
   "id": "296ae9f3",
   "metadata": {},
   "outputs": [
    {
     "name": "stderr",
     "output_type": "stream",
     "text": [
      "/opt/tljh/user/lib/python3.9/site-packages/torch/nn/parallel/_functions.py:68: UserWarning: Was asked to gather along dimension 0, but all input tensors were scalars; will instead unsqueeze and return a vector.\n",
      "  warnings.warn('Was asked to gather along dimension 0, but all '\n"
     ]
    },
    {
     "data": {
      "text/html": [
       "\n",
       "    <div>\n",
       "      \n",
       "      <progress value='421' max='421' style='width:300px; height:20px; vertical-align: middle;'></progress>\n",
       "      [421/421 00:36]\n",
       "    </div>\n",
       "    "
      ],
      "text/plain": [
       "<IPython.core.display.HTML object>"
      ]
     },
     "metadata": {},
     "output_type": "display_data"
    },
    {
     "data": {
      "text/plain": [
       "{'test_loss': 0.008866696618497372,\n",
       " 'test_accuracy': 0.998218262806236,\n",
       " 'test_f1': 0.9982183052453911,\n",
       " 'test_runtime': 36.2479,\n",
       " 'test_samples_per_second': 185.804,\n",
       " 'test_steps_per_second': 11.614}"
      ]
     },
     "execution_count": 34,
     "metadata": {},
     "output_type": "execute_result"
    }
   ],
   "source": [
    "preds_output = trainer.predict(news_encoded[\"test\"])\n",
    "preds_output.metrics"
   ]
  },
  {
   "cell_type": "code",
   "execution_count": 35,
   "id": "4204b882",
   "metadata": {},
   "outputs": [
    {
     "data": {
      "image/png": "[encoded data removed]",
      "text/plain": [
       "<Figure size 200x200 with 1 Axes>"
      ]
     },
     "metadata": {},
     "output_type": "display_data"
    }
   ],
   "source": [
    "y_preds = np.argmax(preds_output.predictions, axis=1)\n",
    "y_valid = np.array(news_encoded[\"test\"][\"label\"])\n",
    "labels = ['Real', 'Fake']\n",
    "\n",
    "plot_confusion_matrix(y_preds, y_valid, labels)"
   ]
  },
  {
   "cell_type": "code",
   "execution_count": 36,
   "id": "16d86317",
   "metadata": {},
   "outputs": [],
   "source": [
    "trainer.save_model(\"models/text_classifier\")"
   ]
  },
  {
   "cell_type": "markdown",
   "id": "7d99a8e7",
   "metadata": {},
   "source": [
    "# Set up the API!\n",
    "### This next cell will load everything, set up the server, and start it. No prior cells need to be run!\n",
    "## Example requests: \n",
    "### Send a POST request to the '/title/' endpoint with the title in the request body for the title model!\n",
    "#### curl -XPOST -H \"Content-Type: application/json\" -d '{\"text\": \"insert title here\"}' http://localhost:8000/title/\n",
    "### Send a POST request to the '/text/' endpoint with the story in the request body for the text model!\n",
    "#### curl -XPOST -H \"Content-Type: application/json\" -d '{\"text\": \"insert story here\"}' http://localhost:8000/text/"
   ]
  },
  {
   "cell_type": "code",
   "execution_count": 38,
   "id": "26dcfd47",
   "metadata": {},
   "outputs": [
    {
     "name": "stderr",
     "output_type": "stream",
     "text": [
      "INFO:     Started server process [281394]\n",
      "INFO:     Waiting for application startup.\n",
      "INFO:     Application startup complete.\n",
      "INFO:     Uvicorn running on http://127.0.0.1:8000 (Press CTRL+C to quit)\n"
     ]
    },
    {
     "name": "stdout",
     "output_type": "stream",
     "text": [
      "Received text: Nato allies on Tuesday\n",
      "Result: Real\n",
      "INFO:     127.0.0.1:47842 - \"POST /text/ HTTP/1.1\" 200 OK\n",
      "Received text: check out this crazy video\n",
      "Result: Fake\n",
      "INFO:     127.0.0.1:59902 - \"POST /text/ HTTP/1.1\" 200 OK\n"
     ]
    },
    {
     "name": "stderr",
     "output_type": "stream",
     "text": [
      "INFO:     Shutting down\n",
      "INFO:     Waiting for application shutdown.\n",
      "INFO:     Application shutdown complete.\n",
      "INFO:     Finished server process [281394]\n"
     ]
    }
   ],
   "source": [
    "from fastapi import FastAPI\n",
    "from typing import Dict\n",
    "import asyncio\n",
    "import uvicorn\n",
    "import torch\n",
    "from transformers import logging, AutoTokenizer, AutoModelForSequenceClassification\n",
    "\n",
    "# or else the logger will say a bunch of random stuff...\n",
    "logging.set_verbosity_error()\n",
    "\n",
    "title_model_ckpt = \"models/title_classifier\"\n",
    "text_model_ckpt = \"models/text_classifier\"\n",
    "\n",
    "title_tokenizer = AutoTokenizer.from_pretrained(title_model_ckpt)\n",
    "title_model = AutoModelForSequenceClassification.from_pretrained(title_model_ckpt, num_labels=2)\n",
    "\n",
    "text_tokenizer = AutoTokenizer.from_pretrained(text_model_ckpt)\n",
    "text_model = AutoModelForSequenceClassification.from_pretrained(text_model_ckpt, num_labels=2)\n",
    "\n",
    "app = FastAPI()\n",
    "\n",
    "@app.post(\"/title/\")\n",
    "def infer(data: Dict[str, str]):\n",
    "    text = data['text']\n",
    "    print(\"Received title:\", text)\n",
    "    \n",
    "    tokenized = title_tokenizer.encode(text, return_tensors='pt')\n",
    "    output = title_model(tokenized)\n",
    "    # output.logits\n",
    "    preds = torch.argmax(output.logits, axis=1)\n",
    "    pred = preds.item()\n",
    "    \n",
    "    if pred == 0:\n",
    "        print(\"Result: Real\")\n",
    "        return \"Real\"\n",
    "    else:\n",
    "        print(\"Result: Fake\")\n",
    "        return \"Fake\"\n",
    "    \n",
    "@app.post(\"/text/\")\n",
    "def infer_text(data: Dict[str, str]):\n",
    "    text = data['text']\n",
    "    print(\"Received text:\", text)\n",
    "    \n",
    "    tokenized = text_tokenizer.encode(text, return_tensors='pt')\n",
    "    output = text_model(tokenized)\n",
    "    # output.logits\n",
    "    preds = torch.argmax(output.logits, axis=1)\n",
    "    pred = preds.item()\n",
    "    \n",
    "    if pred == 0:\n",
    "        print(\"Result: Real\")\n",
    "        return \"Real\"\n",
    "    else:\n",
    "        print(\"Result: Fake\")\n",
    "        return \"Fake\"\n",
    "\n",
    "    \n",
    "config = uvicorn.Config(app)\n",
    "server = uvicorn.Server(config)\n",
    "await server.serve()"
   ]
  },
  {
   "cell_type": "markdown",
   "id": "b2ee43e4",
   "metadata": {},
   "source": [
    "# Thoughts on the project:\n",
    "* First off, setting up the API portion of this lab was really awesome! It wasn't too hard to do, and it's incredibly satisfying to see it work!\n",
    "* This project was *very* unexpected for me. I thought that I would have to put in work to try and help the transformer learn this task! But nope, my efforts were spent in the other direction, trying to make it perform worse! As you can see from the results above, these models were able to figure this problem out with incredible accuracy. I was immediately afraid that something in the data was, in essence, giving away the answers so I tried to remove some things from the data. I also made sure that the data was correctly balanced in all datasets. And yet, the transformer still figured it out too well!\n",
    "* I was planning to try a different transformer model to compare with these, but it doesn't make sense to since these are already almost perfect!\n",
    "* This really taught me the power of transformers, and also gave me the experience of combing through data looking for hints that the transformer could be using!\n",
    "* Given more time, I would have messed with the data even more to try and confuse the models, to see if I can manage to lower their accuracy."
   ]
  }
 ],
 "metadata": {
  "kernelspec": {
   "display_name": "Python 3 (ipykernel)",
   "language": "python",
   "name": "python3"
  },
  "language_info": {
   "codemirror_mode": {
    "name": "ipython",
    "version": 3
   },
   "file_extension": ".py",
   "mimetype": "text/x-python",
   "name": "python",
   "nbconvert_exporter": "python",
   "pygments_lexer": "ipython3",
   "version": "3.9.7"
  }
 },
 "nbformat": 4,
 "nbformat_minor": 5
}
